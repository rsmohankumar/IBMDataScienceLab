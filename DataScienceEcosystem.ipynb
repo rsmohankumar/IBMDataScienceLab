{
 "cells": [
  {
   "cell_type": "markdown",
   "id": "a94b730a-52e8-4835-8a26-7024968631ad",
   "metadata": {},
   "source": [
    "# Data Science Tools and Ecosystem"
   ]
  },
  {
   "cell_type": "markdown",
   "id": "57a5612c-e664-4764-b1be-11c83dad451a",
   "metadata": {},
   "source": [
    "In this notebook, Data Science Tools and Ecosystem are summarized."
   ]
  },
  {
   "cell_type": "markdown",
   "id": "b1115724-9627-4138-a80d-7a629c2065bf",
   "metadata": {},
   "source": [
    "Some of the popular languages that Data Scientists use are:"
   ]
  },
  {
   "cell_type": "markdown",
   "id": "d2bde41d-efcc-4ffa-b15c-9c63053ff8de",
   "metadata": {},
   "source": [
    "Python: Widely popular due to its extensive ecosystem of libraries (e.g., NumPy, Pandas, Scikit-learn, Matplotlib) for data manipulation, analysis, machine learning, and visualization. Its readability and versatility make it a top choice.\n",
    "\n",
    "R: A powerful language specifically designed for statistical computing and graphics. R boasts a vast collection of packages (e.g., ggplot2, dplyr) that are excellent for statistical modeling, data visualization, and reporting.\n",
    "\n",
    "Julia: A relatively newer language gaining traction for its high performance, often comparable to C or Fortran, while offering the ease of use of scripting languages. It's designed for numerical and scientific computing.\n",
    "\n",
    "SQL: While not a general-purpose programming language in the same vein as Python or R, SQL (Structured Query Language) is fundamental for data scientists to extract, transform, and manage data from relational databases. Jupyter Notebooks can connect to databases to execute SQL queries.\n",
    "\n",
    "Scala: Often used with Apache Spark, Scala is a strong choice for big data processing and building scalable data applications. It combines object-oriented and functional programming paradigms."
   ]
  },
  {
   "cell_type": "markdown",
   "id": "8c350093-5194-45b2-b7c3-f9dac635127a",
   "metadata": {},
   "source": [
    "Some of the commonly used libraries used by Data Scientists include:"
   ]
  },
  {
   "cell_type": "markdown",
   "id": "9496fb8a-9310-445a-b9b7-7a8bef57d0f4",
   "metadata": {},
   "source": [
    "NumPy: A fundamental library for scientific computing in Python, providing support for large, multi-dimensional arrays and matrices, along with a collection of high-level mathematical functions to operate on these arrays.\n",
    "\n",
    "Pandas: A powerful Python library for data manipulation and analysis. It provides data structures like DataFrames, which are highly efficient for handling structured data, and tools for reading, writing, filtering, and transforming data.\n",
    "\n",
    "Scikit-learn: A comprehensive Python library for machine learning. It offers a wide range of algorithms for classification, regression, clustering, dimensionality reduction, and model selection.\n",
    "\n",
    "Matplotlib: A widely used plotting library for Python, enabling the creation of static, animated, and interactive visualizations. It's excellent for generating various types of plots and charts to explore and present data."
   ]
  },
  {
   "cell_type": "markdown",
   "id": "48bcbe46-cc12-4619-8be8-547f18daf31c",
   "metadata": {},
   "source": [
    "Data Science Tools"
   ]
  },
  {
   "cell_type": "markdown",
   "id": "b56e48a0-8da7-4862-ad22-fbae6eef5d90",
   "metadata": {},
   "source": [
    "Integrated Development Environments (IDEs) & Notebooks\n",
    "Jupyter Notebook/JupyterLab: An open-source web application that allows you to create and share documents containing live code, equations, visualizations, and narrative text. It's widely used for interactive data exploration, analysis, and prototyping.\n",
    "\n",
    "RStudio: An integrated development environment (IDE) specifically designed for R, offering a console, syntax-highlighting editor, and tools for plotting, history, debugging, and workspace management.\n",
    "\n",
    "VS Code (with extensions): A popular and versatile code editor that, with appropriate extensions (e.g., Python, R, Jupyter), can be transformed into a powerful environment for data science development.\n",
    "\n",
    "Data Visualization Tools\n",
    "Tableau: A leading interactive data visualization tool that allows users to create compelling dashboards and reports by dragging and dropping data fields. It's known for its ease of use and ability to connect to various data sources.\n",
    "\n",
    "Power BI: Microsoft's business intelligence tool for data visualization and reporting. It integrates seamlessly with other Microsoft products and is used for creating interactive dashboards and reports.\n",
    "\n",
    "D3.js: A JavaScript library for manipulating documents based on data. It's highly flexible and allows for the creation of custom, highly interactive, and complex data visualizations on the web.\n",
    "\n",
    "Matplotlib & Seaborn (Python Libraries): While technically libraries, they are fundamental visualization tools within the Python ecosystem. Matplotlib provides foundational plotting capabilities, while Seaborn builds on it to offer a higher-level interface for drawing attractive and informative statistical graphics.\n",
    "\n",
    "Big Data Technologies\n",
    "Apache Spark: A powerful open-source, distributed processing system used for big data workloads. It provides fast in-memory computation and supports various languages (Python, R, Scala, Java) and operations (SQL, streaming, machine learning, graph processing).\n",
    "\n",
    "Apache Hadoop: An open-source framework that allows for the distributed storage and processing of large datasets across clusters of computers. It's foundational for many big data solutions, particularly for batch processing.\n",
    "\n",
    "Apache Kafka: A distributed streaming platform that enables you to publish, subscribe to, store, and process streams of records in real-time. It's crucial for building real-time data pipelines and streaming analytics applications.\n",
    "\n",
    "Databricks: A unified analytics platform built on Apache Spark that provides a collaborative environment for data engineering, data science, and machine learning.\n",
    "\n",
    "Machine Learning Platforms & MLOps Tools\n",
    "TensorFlow: An open-source machine learning framework developed by Google, widely used for building and training deep learning models.\n",
    "\n",
    "PyTorch: An open-source machine learning library primarily developed by Facebook's AI Research lab. It's known for its flexibility and dynamic computational graph, making it popular for research and rapid prototyping.\n",
    "\n",
    "Amazon SageMaker: A fully managed machine learning service by AWS that helps data scientists and developers build, train, and deploy machine learning models at scale.\n",
    "\n",
    "Azure Machine Learning: Microsoft's cloud-based platform for building, deploying, and managing machine learning models.\n",
    "\n",
    "Google Cloud Vertex AI: Google Cloud's unified machine learning platform for building, deploying, and scaling ML models.\n",
    "\n",
    "DataRobot: An automated machine learning (AutoML) platform that helps users build and deploy predictive models quickly without extensive coding.\n",
    "\n",
    "KNIME: An open-source data analytics, reporting, and integration platform. It provides a graphical user interface (GUI) for visually creating data science workflows without requiring much coding."
   ]
  },
  {
   "cell_type": "markdown",
   "id": "2a7a0a50-59fb-4bf2-91a5-a894a2128988",
   "metadata": {},
   "source": [
    "### Below are a few examples of evaluating arithmetic expressions in Python"
   ]
  },
  {
   "cell_type": "code",
   "execution_count": null,
   "id": "52e67708-3461-4d66-8417-58f8e0c5cf23",
   "metadata": {},
   "outputs": [],
   "source": [
    "This a simple arithmetic expression to mutiply then add integers."
   ]
  },
  {
   "cell_type": "code",
   "execution_count": 2,
   "id": "596021e8-75e4-4432-b1f8-8f0916056c1a",
   "metadata": {},
   "outputs": [
    {
     "data": {
      "text/plain": [
       "17"
      ]
     },
     "execution_count": 2,
     "metadata": {},
     "output_type": "execute_result"
    }
   ],
   "source": [
    "(3*4)+5"
   ]
  },
  {
   "cell_type": "code",
   "execution_count": null,
   "id": "9b96e1af-69ef-4443-97e2-2a64d5352e90",
   "metadata": {},
   "outputs": [],
   "source": []
  },
  {
   "cell_type": "markdown",
   "id": "7fe9ac0d-8a49-415e-ba93-06842ea51509",
   "metadata": {},
   "source": [
    "This will convert 200 minutes to hours by diving by 60"
   ]
  },
  {
   "cell_type": "code",
   "execution_count": 3,
   "id": "361ae717-da7a-46ba-a689-dab1fa7b07c9",
   "metadata": {},
   "outputs": [
    {
     "data": {
      "text/plain": [
       "3.3333333333333335"
      ]
     },
     "execution_count": 3,
     "metadata": {},
     "output_type": "execute_result"
    }
   ],
   "source": [
    "200 / 60 "
   ]
  },
  {
   "cell_type": "markdown",
   "id": "0e6c3796-a12f-4efd-a1f3-7e3c7fc297db",
   "metadata": {},
   "source": [
    "<b> Objectives: </b>"
   ]
  },
  {
   "cell_type": "markdown",
   "id": "9af4f79f-2a08-4247-9a5d-8d76b113ec17",
   "metadata": {},
   "source": [
    "Hands on Jupyter Notebook"
   ]
  },
  {
   "cell_type": "markdown",
   "id": "430ce67b-dccc-4fc6-b741-86ed2b79176f",
   "metadata": {},
   "source": [
    "unordered list\n",
    "\n",
    "In this notebook , we covered \n",
    "* Data Science languages \n",
    "* Data Science Libriaries \n",
    "* Data Science tools "
   ]
  },
  {
   "cell_type": "markdown",
   "id": "9e256928-af20-400f-9aaf-c1f56b011fbc",
   "metadata": {},
   "source": [
    "# Author"
   ]
  },
  {
   "cell_type": "markdown",
   "id": "1c474fc5-fa61-4688-a243-0ac2249f0d7c",
   "metadata": {},
   "source": [
    "Mohan"
   ]
  },
  {
   "cell_type": "code",
   "execution_count": null,
   "id": "a72a14e6-1348-4752-b355-267750943f7d",
   "metadata": {},
   "outputs": [],
   "source": []
  }
 ],
 "metadata": {
  "kernelspec": {
   "display_name": "Python 3 (ipykernel)",
   "language": "python",
   "name": "python3"
  },
  "language_info": {
   "codemirror_mode": {
    "name": "ipython",
    "version": 3
   },
   "file_extension": ".py",
   "mimetype": "text/x-python",
   "name": "python",
   "nbconvert_exporter": "python",
   "pygments_lexer": "ipython3",
   "version": "3.12.8"
  }
 },
 "nbformat": 4,
 "nbformat_minor": 5
}
